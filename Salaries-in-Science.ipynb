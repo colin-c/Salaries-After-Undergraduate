{
 "cells": [
  {
   "cell_type": "code",
   "execution_count": 2,
   "id": "ef4b7646-7485-4031-9497-ca0fee322e6d",
   "metadata": {},
   "outputs": [],
   "source": [
    "# Salaries in Science\n",
    "\n",
    "\n",
    "#### Kayla Wen, Colin Chen, Paria Sokhanran, Justin Leung "
   ]
  },
  {
   "cell_type": "code",
   "execution_count": 5,
   "id": "b0ad7afe-4c49-4080-b444-cea280156189",
   "metadata": {},
   "outputs": [],
   "source": [
    "#Run this cell first\n",
    "\n",
    "library(tidyverse)\n",
    "library(testthat)\n",
    "library(digest)\n",
    "library(repr)\n",
    "library(tidymodels)\n",
    "options(repr.matrix.max.rows = 6)\n"
   ]
  },
  {
   "cell_type": "code",
   "execution_count": 9,
   "id": "efb1e263-0dba-4795-9efd-e94ceed68665",
   "metadata": {},
   "outputs": [
    {
     "name": "stderr",
     "output_type": "stream",
     "text": [
      "\u001b[1mRows: \u001b[22m\u001b[34m480\u001b[39m \u001b[1mColumns: \u001b[22m\u001b[34m9\u001b[39m\n",
      "\u001b[36m──\u001b[39m \u001b[1mColumn specification\u001b[22m \u001b[36m────────────────────────────────────────────────────────\u001b[39m\n",
      "\u001b[1mDelimiter:\u001b[22m \",\"\n",
      "\u001b[31mchr\u001b[39m (3): Option, Spec, Space\n",
      "\u001b[32mdbl\u001b[39m (6): Year, Intial Admit\n",
      "Number, Inital Reject \n",
      "Number, Final Admit \n",
      "Numb...\n",
      "\n",
      "\u001b[36mℹ\u001b[39m Use `spec()` to retrieve the full column specification for this data.\n",
      "\u001b[36mℹ\u001b[39m Specify the column types or set `show_col_types = FALSE` to quiet this message.\n"
     ]
    },
    {
     "data": {
      "text/html": [
       "<table class=\"dataframe\">\n",
       "<caption>A spec_tbl_df: 480 × 9</caption>\n",
       "<thead>\n",
       "\t<tr><th scope=col>Year</th><th scope=col>Option</th><th scope=col>Spec</th><th scope=col>Space</th><th scope=col>Intial Admit\n",
       "Number</th><th scope=col>Inital Reject \n",
       "Number</th><th scope=col>Final Admit \n",
       "Number</th><th scope=col>Max grade</th><th scope=col>Min Grade</th></tr>\n",
       "\t<tr><th scope=col>&lt;dbl&gt;</th><th scope=col>&lt;chr&gt;</th><th scope=col>&lt;chr&gt;</th><th scope=col>&lt;chr&gt;</th><th scope=col>&lt;dbl&gt;</th><th scope=col>&lt;dbl&gt;</th><th scope=col>&lt;dbl&gt;</th><th scope=col>&lt;dbl&gt;</th><th scope=col>&lt;dbl&gt;</th></tr>\n",
       "</thead>\n",
       "<tbody>\n",
       "\t<tr><td>2015</td><td>NA  </td><td>NA                                                                  </td><td>NA </td><td>NA</td><td>NA</td><td>NA</td><td>   NA</td><td>   NA</td></tr>\n",
       "\t<tr><td>2015</td><td>CPSC</td><td>NA                                                                  </td><td>193</td><td>NA</td><td>NA</td><td>NA</td><td>   NA</td><td>   NA</td></tr>\n",
       "\t<tr><td>2015</td><td>CPSC</td><td>Major Cognitive Systems(1226): Computational Intelligence and Design</td><td>NA </td><td> 9</td><td>15</td><td>10</td><td>87.58</td><td>70.33</td></tr>\n",
       "\t<tr><td>⋮</td><td>⋮</td><td>⋮</td><td>⋮</td><td>⋮</td><td>⋮</td><td>⋮</td><td>⋮</td><td>⋮</td></tr>\n",
       "\t<tr><td>2022</td><td>Combined Honours</td><td>Combined Honours (0517): Chemical Physics (CHEM, PHYS)       </td><td>NA</td><td> 3</td><td>0</td><td> 3</td><td>   NA</td><td>   NA</td></tr>\n",
       "\t<tr><td>2022</td><td>Combined Honours</td><td>Combined Honours (0009): Physics and Astronomy (PHYS, ASTR)  </td><td>NA</td><td>11</td><td>0</td><td>10</td><td>90.19</td><td>74.62</td></tr>\n",
       "\t<tr><td>2022</td><td>Combined Honours</td><td>Combined Honours (0014): Physics and Mathematics (PHYS, MATH)</td><td>NA</td><td>13</td><td>0</td><td>13</td><td>96.30</td><td>77.90</td></tr>\n",
       "</tbody>\n",
       "</table>\n"
      ],
      "text/latex": [
       "A spec\\_tbl\\_df: 480 × 9\n",
       "\\begin{tabular}{lllllllll}\n",
       " Year & Option & Spec & Space & Intial Admit\n",
       "Number & Inital Reject \n",
       "Number & Final Admit \n",
       "Number & Max grade & Min Grade\\\\\n",
       " <dbl> & <chr> & <chr> & <chr> & <dbl> & <dbl> & <dbl> & <dbl> & <dbl>\\\\\n",
       "\\hline\n",
       "\t 2015 & NA   & NA                                                                   & NA  & NA & NA & NA &    NA &    NA\\\\\n",
       "\t 2015 & CPSC & NA                                                                   & 193 & NA & NA & NA &    NA &    NA\\\\\n",
       "\t 2015 & CPSC & Major Cognitive Systems(1226): Computational Intelligence and Design & NA  &  9 & 15 & 10 & 87.58 & 70.33\\\\\n",
       "\t ⋮ & ⋮ & ⋮ & ⋮ & ⋮ & ⋮ & ⋮ & ⋮ & ⋮\\\\\n",
       "\t 2022 & Combined Honours & Combined Honours (0517): Chemical Physics (CHEM, PHYS)        & NA &  3 & 0 &  3 &    NA &    NA\\\\\n",
       "\t 2022 & Combined Honours & Combined Honours (0009): Physics and Astronomy (PHYS, ASTR)   & NA & 11 & 0 & 10 & 90.19 & 74.62\\\\\n",
       "\t 2022 & Combined Honours & Combined Honours (0014): Physics and Mathematics (PHYS, MATH) & NA & 13 & 0 & 13 & 96.30 & 77.90\\\\\n",
       "\\end{tabular}\n"
      ],
      "text/markdown": [
       "\n",
       "A spec_tbl_df: 480 × 9\n",
       "\n",
       "| Year &lt;dbl&gt; | Option &lt;chr&gt; | Spec &lt;chr&gt; | Space &lt;chr&gt; | Intial Admit\n",
       "Number &lt;dbl&gt; | Inital Reject \n",
       "Number &lt;dbl&gt; | Final Admit \n",
       "Number &lt;dbl&gt; | Max grade &lt;dbl&gt; | Min Grade &lt;dbl&gt; |\n",
       "|---|---|---|---|---|---|---|---|---|\n",
       "| 2015 | NA   | NA                                                                   | NA  | NA | NA | NA |    NA |    NA |\n",
       "| 2015 | CPSC | NA                                                                   | 193 | NA | NA | NA |    NA |    NA |\n",
       "| 2015 | CPSC | Major Cognitive Systems(1226): Computational Intelligence and Design | NA  |  9 | 15 | 10 | 87.58 | 70.33 |\n",
       "| ⋮ | ⋮ | ⋮ | ⋮ | ⋮ | ⋮ | ⋮ | ⋮ | ⋮ |\n",
       "| 2022 | Combined Honours | Combined Honours (0517): Chemical Physics (CHEM, PHYS)        | NA |  3 | 0 |  3 |    NA |    NA |\n",
       "| 2022 | Combined Honours | Combined Honours (0009): Physics and Astronomy (PHYS, ASTR)   | NA | 11 | 0 | 10 | 90.19 | 74.62 |\n",
       "| 2022 | Combined Honours | Combined Honours (0014): Physics and Mathematics (PHYS, MATH) | NA | 13 | 0 | 13 | 96.30 | 77.90 |\n",
       "\n"
      ],
      "text/plain": [
       "    Year Option          \n",
       "1   2015 NA              \n",
       "2   2015 CPSC            \n",
       "3   2015 CPSC            \n",
       "⋮   ⋮    ⋮               \n",
       "478 2022 Combined Honours\n",
       "479 2022 Combined Honours\n",
       "480 2022 Combined Honours\n",
       "    Spec                                                                 Space\n",
       "1   NA                                                                   NA   \n",
       "2   NA                                                                   193  \n",
       "3   Major Cognitive Systems(1226): Computational Intelligence and Design NA   \n",
       "⋮   ⋮                                                                    ⋮    \n",
       "478 Combined Honours (0517): Chemical Physics (CHEM, PHYS)               NA   \n",
       "479 Combined Honours (0009): Physics and Astronomy (PHYS, ASTR)          NA   \n",
       "480 Combined Honours (0014): Physics and Mathematics (PHYS, MATH)        NA   \n",
       "    Intial Admit\\nNumber Inital Reject \\nNumber Final Admit \\nNumber Max grade\n",
       "1   NA                   NA                     NA                      NA    \n",
       "2   NA                   NA                     NA                      NA    \n",
       "3    9                   15                     10                   87.58    \n",
       "⋮   ⋮                    ⋮                      ⋮                    ⋮        \n",
       "478  3                   0                       3                      NA    \n",
       "479 11                   0                      10                   90.19    \n",
       "480 13                   0                      13                   96.30    \n",
       "    Min Grade\n",
       "1      NA    \n",
       "2      NA    \n",
       "3   70.33    \n",
       "⋮   ⋮        \n",
       "478    NA    \n",
       "479 74.62    \n",
       "480 77.90    "
      ]
     },
     "metadata": {},
     "output_type": "display_data"
    },
    {
     "name": "stderr",
     "output_type": "stream",
     "text": [
      "\u001b[1mRows: \u001b[22m\u001b[34m173\u001b[39m \u001b[1mColumns: \u001b[22m\u001b[34m12\u001b[39m\n",
      "\u001b[36m──\u001b[39m \u001b[1mColumn specification\u001b[22m \u001b[36m────────────────────────────────────────────────────────\u001b[39m\n",
      "\u001b[1mDelimiter:\u001b[22m \",\"\n",
      "\u001b[31mchr\u001b[39m  (2): Major, Major_category\n",
      "\u001b[32mdbl\u001b[39m (10): index, Major_code, Total, Employed, Employed_full_time_year_round,...\n",
      "\n",
      "\u001b[36mℹ\u001b[39m Use `spec()` to retrieve the full column specification for this data.\n",
      "\u001b[36mℹ\u001b[39m Specify the column types or set `show_col_types = FALSE` to quiet this message.\n"
     ]
    },
    {
     "data": {
      "text/html": [
       "<table class=\"dataframe\">\n",
       "<caption>A spec_tbl_df: 173 × 12</caption>\n",
       "<thead>\n",
       "\t<tr><th scope=col>index</th><th scope=col>Major_code</th><th scope=col>Major</th><th scope=col>Major_category</th><th scope=col>Total</th><th scope=col>Employed</th><th scope=col>Employed_full_time_year_round</th><th scope=col>Unemployed</th><th scope=col>Unemployment_rate</th><th scope=col>Median</th><th scope=col>P25th</th><th scope=col>P75th</th></tr>\n",
       "\t<tr><th scope=col>&lt;dbl&gt;</th><th scope=col>&lt;dbl&gt;</th><th scope=col>&lt;chr&gt;</th><th scope=col>&lt;chr&gt;</th><th scope=col>&lt;dbl&gt;</th><th scope=col>&lt;dbl&gt;</th><th scope=col>&lt;dbl&gt;</th><th scope=col>&lt;dbl&gt;</th><th scope=col>&lt;dbl&gt;</th><th scope=col>&lt;dbl&gt;</th><th scope=col>&lt;dbl&gt;</th><th scope=col>&lt;dbl&gt;</th></tr>\n",
       "</thead>\n",
       "<tbody>\n",
       "\t<tr><td>0</td><td>1100</td><td><span style=white-space:pre-wrap>GENERAL AGRICULTURE                  </span></td><td>Agriculture &amp; Natural Resources</td><td>128148</td><td>90245</td><td>74078</td><td>2423</td><td>0.02614711</td><td>50000</td><td>34000</td><td>80000</td></tr>\n",
       "\t<tr><td>1</td><td>1101</td><td>AGRICULTURE PRODUCTION AND MANAGEMENT</td><td>Agriculture &amp; Natural Resources</td><td> 95326</td><td>76865</td><td>64240</td><td>2266</td><td>0.02863606</td><td>54000</td><td>36000</td><td>80000</td></tr>\n",
       "\t<tr><td>2</td><td>1102</td><td><span style=white-space:pre-wrap>AGRICULTURAL ECONOMICS               </span></td><td>Agriculture &amp; Natural Resources</td><td> 33955</td><td>26321</td><td>22810</td><td> 821</td><td>0.03024832</td><td>63000</td><td>40000</td><td>98000</td></tr>\n",
       "\t<tr><td>⋮</td><td>⋮</td><td>⋮</td><td>⋮</td><td>⋮</td><td>⋮</td><td>⋮</td><td>⋮</td><td>⋮</td><td>⋮</td><td>⋮</td><td>⋮</td></tr>\n",
       "\t<tr><td>170</td><td>6299</td><td>MISCELLANEOUS BUSINESS &amp; MEDICAL ADMINISTRATION</td><td><span style=white-space:pre-wrap>Business                 </span></td><td>102753</td><td> 77471</td><td> 61603</td><td> 4308</td><td>0.05267856</td><td>53000</td><td>36000</td><td>83000</td></tr>\n",
       "\t<tr><td>171</td><td>6402</td><td><span style=white-space:pre-wrap>HISTORY                                        </span></td><td>Humanities &amp; Liberal Arts</td><td>712509</td><td>478416</td><td>354163</td><td>33725</td><td>0.06585101</td><td>50000</td><td>35000</td><td>80000</td></tr>\n",
       "\t<tr><td>172</td><td>6403</td><td><span style=white-space:pre-wrap>UNITED STATES HISTORY                          </span></td><td>Humanities &amp; Liberal Arts</td><td> 17746</td><td> 11887</td><td><span style=white-space:pre-wrap>  8204</span></td><td><span style=white-space:pre-wrap>  943</span></td><td>0.07349961</td><td>50000</td><td>39000</td><td>81000</td></tr>\n",
       "</tbody>\n",
       "</table>\n"
      ],
      "text/latex": [
       "A spec\\_tbl\\_df: 173 × 12\n",
       "\\begin{tabular}{llllllllllll}\n",
       " index & Major\\_code & Major & Major\\_category & Total & Employed & Employed\\_full\\_time\\_year\\_round & Unemployed & Unemployment\\_rate & Median & P25th & P75th\\\\\n",
       " <dbl> & <dbl> & <chr> & <chr> & <dbl> & <dbl> & <dbl> & <dbl> & <dbl> & <dbl> & <dbl> & <dbl>\\\\\n",
       "\\hline\n",
       "\t 0 & 1100 & GENERAL AGRICULTURE                   & Agriculture \\& Natural Resources & 128148 & 90245 & 74078 & 2423 & 0.02614711 & 50000 & 34000 & 80000\\\\\n",
       "\t 1 & 1101 & AGRICULTURE PRODUCTION AND MANAGEMENT & Agriculture \\& Natural Resources &  95326 & 76865 & 64240 & 2266 & 0.02863606 & 54000 & 36000 & 80000\\\\\n",
       "\t 2 & 1102 & AGRICULTURAL ECONOMICS                & Agriculture \\& Natural Resources &  33955 & 26321 & 22810 &  821 & 0.03024832 & 63000 & 40000 & 98000\\\\\n",
       "\t ⋮ & ⋮ & ⋮ & ⋮ & ⋮ & ⋮ & ⋮ & ⋮ & ⋮ & ⋮ & ⋮ & ⋮\\\\\n",
       "\t 170 & 6299 & MISCELLANEOUS BUSINESS \\& MEDICAL ADMINISTRATION & Business                  & 102753 &  77471 &  61603 &  4308 & 0.05267856 & 53000 & 36000 & 83000\\\\\n",
       "\t 171 & 6402 & HISTORY                                         & Humanities \\& Liberal Arts & 712509 & 478416 & 354163 & 33725 & 0.06585101 & 50000 & 35000 & 80000\\\\\n",
       "\t 172 & 6403 & UNITED STATES HISTORY                           & Humanities \\& Liberal Arts &  17746 &  11887 &   8204 &   943 & 0.07349961 & 50000 & 39000 & 81000\\\\\n",
       "\\end{tabular}\n"
      ],
      "text/markdown": [
       "\n",
       "A spec_tbl_df: 173 × 12\n",
       "\n",
       "| index &lt;dbl&gt; | Major_code &lt;dbl&gt; | Major &lt;chr&gt; | Major_category &lt;chr&gt; | Total &lt;dbl&gt; | Employed &lt;dbl&gt; | Employed_full_time_year_round &lt;dbl&gt; | Unemployed &lt;dbl&gt; | Unemployment_rate &lt;dbl&gt; | Median &lt;dbl&gt; | P25th &lt;dbl&gt; | P75th &lt;dbl&gt; |\n",
       "|---|---|---|---|---|---|---|---|---|---|---|---|\n",
       "| 0 | 1100 | GENERAL AGRICULTURE                   | Agriculture &amp; Natural Resources | 128148 | 90245 | 74078 | 2423 | 0.02614711 | 50000 | 34000 | 80000 |\n",
       "| 1 | 1101 | AGRICULTURE PRODUCTION AND MANAGEMENT | Agriculture &amp; Natural Resources |  95326 | 76865 | 64240 | 2266 | 0.02863606 | 54000 | 36000 | 80000 |\n",
       "| 2 | 1102 | AGRICULTURAL ECONOMICS                | Agriculture &amp; Natural Resources |  33955 | 26321 | 22810 |  821 | 0.03024832 | 63000 | 40000 | 98000 |\n",
       "| ⋮ | ⋮ | ⋮ | ⋮ | ⋮ | ⋮ | ⋮ | ⋮ | ⋮ | ⋮ | ⋮ | ⋮ |\n",
       "| 170 | 6299 | MISCELLANEOUS BUSINESS &amp; MEDICAL ADMINISTRATION | Business                  | 102753 |  77471 |  61603 |  4308 | 0.05267856 | 53000 | 36000 | 83000 |\n",
       "| 171 | 6402 | HISTORY                                         | Humanities &amp; Liberal Arts | 712509 | 478416 | 354163 | 33725 | 0.06585101 | 50000 | 35000 | 80000 |\n",
       "| 172 | 6403 | UNITED STATES HISTORY                           | Humanities &amp; Liberal Arts |  17746 |  11887 |   8204 |   943 | 0.07349961 | 50000 | 39000 | 81000 |\n",
       "\n"
      ],
      "text/plain": [
       "    index Major_code Major                                          \n",
       "1   0     1100       GENERAL AGRICULTURE                            \n",
       "2   1     1101       AGRICULTURE PRODUCTION AND MANAGEMENT          \n",
       "3   2     1102       AGRICULTURAL ECONOMICS                         \n",
       "⋮   ⋮     ⋮          ⋮                                              \n",
       "171 170   6299       MISCELLANEOUS BUSINESS & MEDICAL ADMINISTRATION\n",
       "172 171   6402       HISTORY                                        \n",
       "173 172   6403       UNITED STATES HISTORY                          \n",
       "    Major_category                  Total  Employed\n",
       "1   Agriculture & Natural Resources 128148 90245   \n",
       "2   Agriculture & Natural Resources  95326 76865   \n",
       "3   Agriculture & Natural Resources  33955 26321   \n",
       "⋮   ⋮                               ⋮      ⋮       \n",
       "171 Business                        102753  77471  \n",
       "172 Humanities & Liberal Arts       712509 478416  \n",
       "173 Humanities & Liberal Arts        17746  11887  \n",
       "    Employed_full_time_year_round Unemployed Unemployment_rate Median P25th\n",
       "1   74078                         2423       0.02614711        50000  34000\n",
       "2   64240                         2266       0.02863606        54000  36000\n",
       "3   22810                          821       0.03024832        63000  40000\n",
       "⋮   ⋮                             ⋮          ⋮                 ⋮      ⋮    \n",
       "171  61603                         4308      0.05267856        53000  36000\n",
       "172 354163                        33725      0.06585101        50000  35000\n",
       "173   8204                          943      0.07349961        50000  39000\n",
       "    P75th\n",
       "1   80000\n",
       "2   80000\n",
       "3   98000\n",
       "⋮   ⋮    \n",
       "171 83000\n",
       "172 80000\n",
       "173 81000"
      ]
     },
     "metadata": {},
     "output_type": "display_data"
    }
   ],
   "source": [
    "## reads the data of the GPA of Science Majors in UBC Undergrauates\n",
    "gpa_data <- read_csv(file = \"https://raw.githubusercontent.com/colin-c/Salaries-in-Science/main/data/ubc-science-gpa.csv\")\n",
    "\n",
    "gpa_data\n",
    "\n",
    "## reads the data of the average salary of graduates with a certain degree and major\n",
    "major_data <- read_csv(file = \"https://raw.githubusercontent.com/colin-c/Salaries-in-Science/main/data/all-ages.csv\")\n",
    "\n",
    "major_data"
   ]
  },
  {
   "cell_type": "code",
   "execution_count": null,
   "id": "6d69a5cf-0cb5-40ae-9ff0-771481a2dc11",
   "metadata": {},
   "outputs": [],
   "source": []
  },
  {
   "cell_type": "code",
   "execution_count": null,
   "id": "6f9b24c1-206a-4aec-ba32-45a2c9907c18",
   "metadata": {},
   "outputs": [],
   "source": []
  }
 ],
 "metadata": {
  "kernelspec": {
   "display_name": "R",
   "language": "R",
   "name": "ir"
  },
  "language_info": {
   "codemirror_mode": "r",
   "file_extension": ".r",
   "mimetype": "text/x-r-source",
   "name": "R",
   "pygments_lexer": "r",
   "version": "4.1.3"
  }
 },
 "nbformat": 4,
 "nbformat_minor": 5
}
