{
 "cells": [
  {
   "cell_type": "markdown",
   "id": "93b87de8-1d02-491a-b362-74140ab853bf",
   "metadata": {},
   "source": [
    "# Salaries in Science\n",
    "\n",
    "\n",
    "#### Kayla Wen, Colin Chen, Paria Sokhanran, Justin Leung "
   ]
  },
  {
   "cell_type": "markdown",
   "id": "b72c8c37-e7bb-4ca1-918b-b1838bac85bf",
   "metadata": {},
   "source": [
    "## Part I: Introduction\n",
    "The decision of what to study in university is an undeniable challenge many students encounter. Most students value stability; therefore, they aim to complete their degree and obtain a well-paying job post-graduation. Our group is interested in investigating the correlation between compensation and employment rates of various industries. Therefore, we aim to answer the following question: What is the relationship between salaries and employment rates? This question stemmed from our hypothesis that industries with higher salaries have lower employment rates due to their lack of funding for more employees. To accomplish this, we will use a data set taken from Kaggle, which includes multiple files with information about individuals’ majors, grades, career prospects, and other personal information such as age. "
   ]
  },
  {
   "cell_type": "markdown",
   "id": "17350efe-2d74-4407-8fe1-b1376bc2f719",
   "metadata": {
    "tags": []
   },
   "source": [
    "## Part II: Preliminary Exploratory Data Analysis"
   ]
  },
  {
   "cell_type": "code",
   "execution_count": 1,
   "id": "b0ad7afe-4c49-4080-b444-cea280156189",
   "metadata": {},
   "outputs": [
    {
     "name": "stderr",
     "output_type": "stream",
     "text": [
      "── \u001b[1mAttaching packages\u001b[22m ─────────────────────────────────────── tidyverse 1.3.1 ──\n",
      "\n",
      "\u001b[32m✔\u001b[39m \u001b[34mggplot2\u001b[39m 3.3.6     \u001b[32m✔\u001b[39m \u001b[34mpurrr  \u001b[39m 0.3.4\n",
      "\u001b[32m✔\u001b[39m \u001b[34mtibble \u001b[39m 3.1.7     \u001b[32m✔\u001b[39m \u001b[34mdplyr  \u001b[39m 1.0.9\n",
      "\u001b[32m✔\u001b[39m \u001b[34mtidyr  \u001b[39m 1.2.0     \u001b[32m✔\u001b[39m \u001b[34mstringr\u001b[39m 1.4.0\n",
      "\u001b[32m✔\u001b[39m \u001b[34mreadr  \u001b[39m 2.1.2     \u001b[32m✔\u001b[39m \u001b[34mforcats\u001b[39m 0.5.1\n",
      "\n",
      "── \u001b[1mConflicts\u001b[22m ────────────────────────────────────────── tidyverse_conflicts() ──\n",
      "\u001b[31m✖\u001b[39m \u001b[34mdplyr\u001b[39m::\u001b[32mfilter()\u001b[39m masks \u001b[34mstats\u001b[39m::filter()\n",
      "\u001b[31m✖\u001b[39m \u001b[34mdplyr\u001b[39m::\u001b[32mlag()\u001b[39m    masks \u001b[34mstats\u001b[39m::lag()\n",
      "\n",
      "\n",
      "Attaching package: ‘testthat’\n",
      "\n",
      "\n",
      "The following object is masked from ‘package:dplyr’:\n",
      "\n",
      "    matches\n",
      "\n",
      "\n",
      "The following object is masked from ‘package:purrr’:\n",
      "\n",
      "    is_null\n",
      "\n",
      "\n",
      "The following objects are masked from ‘package:readr’:\n",
      "\n",
      "    edition_get, local_edition\n",
      "\n",
      "\n",
      "The following object is masked from ‘package:tidyr’:\n",
      "\n",
      "    matches\n",
      "\n",
      "\n",
      "── \u001b[1mAttaching packages\u001b[22m ────────────────────────────────────── tidymodels 1.0.0 ──\n",
      "\n",
      "\u001b[32m✔\u001b[39m \u001b[34mbroom       \u001b[39m 1.0.0     \u001b[32m✔\u001b[39m \u001b[34mrsample     \u001b[39m 1.0.0\n",
      "\u001b[32m✔\u001b[39m \u001b[34mdials       \u001b[39m 1.0.0     \u001b[32m✔\u001b[39m \u001b[34mtune        \u001b[39m 1.0.0\n",
      "\u001b[32m✔\u001b[39m \u001b[34minfer       \u001b[39m 1.0.2     \u001b[32m✔\u001b[39m \u001b[34mworkflows   \u001b[39m 1.0.0\n",
      "\u001b[32m✔\u001b[39m \u001b[34mmodeldata   \u001b[39m 1.0.0     \u001b[32m✔\u001b[39m \u001b[34mworkflowsets\u001b[39m 1.0.0\n",
      "\u001b[32m✔\u001b[39m \u001b[34mparsnip     \u001b[39m 1.0.0     \u001b[32m✔\u001b[39m \u001b[34myardstick   \u001b[39m 1.0.0\n",
      "\u001b[32m✔\u001b[39m \u001b[34mrecipes     \u001b[39m 1.0.1     \n",
      "\n",
      "── \u001b[1mConflicts\u001b[22m ───────────────────────────────────────── tidymodels_conflicts() ──\n",
      "\u001b[31m✖\u001b[39m \u001b[34mscales\u001b[39m::\u001b[32mdiscard()\u001b[39m   masks \u001b[34mpurrr\u001b[39m::discard()\n",
      "\u001b[31m✖\u001b[39m \u001b[34mdplyr\u001b[39m::\u001b[32mfilter()\u001b[39m     masks \u001b[34mstats\u001b[39m::filter()\n",
      "\u001b[31m✖\u001b[39m \u001b[34mrecipes\u001b[39m::\u001b[32mfixed()\u001b[39m    masks \u001b[34mstringr\u001b[39m::fixed()\n",
      "\u001b[31m✖\u001b[39m \u001b[34mtestthat\u001b[39m::\u001b[32mis_null()\u001b[39m masks \u001b[34mpurrr\u001b[39m::is_null()\n",
      "\u001b[31m✖\u001b[39m \u001b[34mdplyr\u001b[39m::\u001b[32mlag()\u001b[39m        masks \u001b[34mstats\u001b[39m::lag()\n",
      "\u001b[31m✖\u001b[39m \u001b[34mrsample\u001b[39m::\u001b[32mmatches()\u001b[39m  masks \u001b[34mtestthat\u001b[39m::matches(), \u001b[34mdplyr\u001b[39m::matches(), \u001b[34mtidyr\u001b[39m::matches()\n",
      "\u001b[31m✖\u001b[39m \u001b[34myardstick\u001b[39m::\u001b[32mspec()\u001b[39m   masks \u001b[34mreadr\u001b[39m::spec()\n",
      "\u001b[31m✖\u001b[39m \u001b[34mrecipes\u001b[39m::\u001b[32mstep()\u001b[39m     masks \u001b[34mstats\u001b[39m::step()\n",
      "\u001b[34m•\u001b[39m Use suppressPackageStartupMessages() to eliminate package startup messages\n",
      "\n"
     ]
    }
   ],
   "source": [
    "#Run this cell first\n",
    "\n",
    "library(tidyverse)\n",
    "library(testthat)\n",
    "library(digest)\n",
    "library(repr)\n",
    "library(tidymodels)\n",
    "options(repr.matrix.max.rows = 15)\n"
   ]
  },
  {
   "cell_type": "markdown",
   "id": "d223d29a-192e-4b51-83ad-3436f8dcae3b",
   "metadata": {},
   "source": [
    "#### Reading the Data Set and Splitting Up"
   ]
  },
  {
   "cell_type": "code",
   "execution_count": 2,
   "id": "6d69a5cf-0cb5-40ae-9ff0-771481a2dc11",
   "metadata": {},
   "outputs": [
    {
     "name": "stderr",
     "output_type": "stream",
     "text": [
      "\u001b[1mRows: \u001b[22m\u001b[34m173\u001b[39m \u001b[1mColumns: \u001b[22m\u001b[34m12\u001b[39m\n",
      "\u001b[36m──\u001b[39m \u001b[1mColumn specification\u001b[22m \u001b[36m────────────────────────────────────────────────────────\u001b[39m\n",
      "\u001b[1mDelimiter:\u001b[22m \",\"\n",
      "\u001b[31mchr\u001b[39m  (2): Major, Major_category\n",
      "\u001b[32mdbl\u001b[39m (10): index, Major_code, Total, Employed, Employed_full_time_year_round,...\n",
      "\n",
      "\u001b[36mℹ\u001b[39m Use `spec()` to retrieve the full column specification for this data.\n",
      "\u001b[36mℹ\u001b[39m Specify the column types or set `show_col_types = FALSE` to quiet this message.\n"
     ]
    },
    {
     "data": {
      "text/html": [
       "<table class=\"dataframe\">\n",
       "<caption>A tibble: 6 × 13</caption>\n",
       "<thead>\n",
       "\t<tr><th scope=col>index</th><th scope=col>Major_code</th><th scope=col>Major</th><th scope=col>Major_category</th><th scope=col>Total</th><th scope=col>Employed</th><th scope=col>Employed_full_time_year_round</th><th scope=col>Unemployed</th><th scope=col>Unemployment_rate</th><th scope=col>Median</th><th scope=col>P25th</th><th scope=col>P75th</th><th scope=col>Employment_rate</th></tr>\n",
       "\t<tr><th scope=col>&lt;dbl&gt;</th><th scope=col>&lt;dbl&gt;</th><th scope=col>&lt;chr&gt;</th><th scope=col>&lt;chr&gt;</th><th scope=col>&lt;dbl&gt;</th><th scope=col>&lt;dbl&gt;</th><th scope=col>&lt;dbl&gt;</th><th scope=col>&lt;dbl&gt;</th><th scope=col>&lt;dbl&gt;</th><th scope=col>&lt;dbl&gt;</th><th scope=col>&lt;dbl&gt;</th><th scope=col>&lt;dbl&gt;</th><th scope=col>&lt;dbl&gt;</th></tr>\n",
       "</thead>\n",
       "<tbody>\n",
       "\t<tr><td>0</td><td>1100</td><td><span style=white-space:pre-wrap>GENERAL AGRICULTURE                  </span></td><td>Agriculture &amp; Natural Resources</td><td>128148</td><td>90245</td><td>74078</td><td>2423</td><td>0.02614711</td><td>50000</td><td>34000</td><td>80000</td><td>0.9738529</td></tr>\n",
       "\t<tr><td>1</td><td>1101</td><td>AGRICULTURE PRODUCTION AND MANAGEMENT</td><td>Agriculture &amp; Natural Resources</td><td> 95326</td><td>76865</td><td>64240</td><td>2266</td><td>0.02863606</td><td>54000</td><td>36000</td><td>80000</td><td>0.9713639</td></tr>\n",
       "\t<tr><td>2</td><td>1102</td><td><span style=white-space:pre-wrap>AGRICULTURAL ECONOMICS               </span></td><td>Agriculture &amp; Natural Resources</td><td> 33955</td><td>26321</td><td>22810</td><td> 821</td><td>0.03024832</td><td>63000</td><td>40000</td><td>98000</td><td>0.9697517</td></tr>\n",
       "\t<tr><td>3</td><td>1103</td><td><span style=white-space:pre-wrap>ANIMAL SCIENCES                      </span></td><td>Agriculture &amp; Natural Resources</td><td>103549</td><td>81177</td><td>64937</td><td>3619</td><td>0.04267890</td><td>46000</td><td>30000</td><td>72000</td><td>0.9573211</td></tr>\n",
       "\t<tr><td>4</td><td>1104</td><td><span style=white-space:pre-wrap>FOOD SCIENCE                         </span></td><td>Agriculture &amp; Natural Resources</td><td> 24280</td><td>17281</td><td>12722</td><td> 894</td><td>0.04918845</td><td>62000</td><td>38500</td><td>90000</td><td>0.9508116</td></tr>\n",
       "\t<tr><td>5</td><td>1105</td><td><span style=white-space:pre-wrap>PLANT SCIENCE AND AGRONOMY           </span></td><td>Agriculture &amp; Natural Resources</td><td> 79409</td><td>63043</td><td>51077</td><td>2070</td><td>0.03179089</td><td>50000</td><td>35000</td><td>75000</td><td>0.9682091</td></tr>\n",
       "</tbody>\n",
       "</table>\n"
      ],
      "text/latex": [
       "A tibble: 6 × 13\n",
       "\\begin{tabular}{lllllllllllll}\n",
       " index & Major\\_code & Major & Major\\_category & Total & Employed & Employed\\_full\\_time\\_year\\_round & Unemployed & Unemployment\\_rate & Median & P25th & P75th & Employment\\_rate\\\\\n",
       " <dbl> & <dbl> & <chr> & <chr> & <dbl> & <dbl> & <dbl> & <dbl> & <dbl> & <dbl> & <dbl> & <dbl> & <dbl>\\\\\n",
       "\\hline\n",
       "\t 0 & 1100 & GENERAL AGRICULTURE                   & Agriculture \\& Natural Resources & 128148 & 90245 & 74078 & 2423 & 0.02614711 & 50000 & 34000 & 80000 & 0.9738529\\\\\n",
       "\t 1 & 1101 & AGRICULTURE PRODUCTION AND MANAGEMENT & Agriculture \\& Natural Resources &  95326 & 76865 & 64240 & 2266 & 0.02863606 & 54000 & 36000 & 80000 & 0.9713639\\\\\n",
       "\t 2 & 1102 & AGRICULTURAL ECONOMICS                & Agriculture \\& Natural Resources &  33955 & 26321 & 22810 &  821 & 0.03024832 & 63000 & 40000 & 98000 & 0.9697517\\\\\n",
       "\t 3 & 1103 & ANIMAL SCIENCES                       & Agriculture \\& Natural Resources & 103549 & 81177 & 64937 & 3619 & 0.04267890 & 46000 & 30000 & 72000 & 0.9573211\\\\\n",
       "\t 4 & 1104 & FOOD SCIENCE                          & Agriculture \\& Natural Resources &  24280 & 17281 & 12722 &  894 & 0.04918845 & 62000 & 38500 & 90000 & 0.9508116\\\\\n",
       "\t 5 & 1105 & PLANT SCIENCE AND AGRONOMY            & Agriculture \\& Natural Resources &  79409 & 63043 & 51077 & 2070 & 0.03179089 & 50000 & 35000 & 75000 & 0.9682091\\\\\n",
       "\\end{tabular}\n"
      ],
      "text/markdown": [
       "\n",
       "A tibble: 6 × 13\n",
       "\n",
       "| index &lt;dbl&gt; | Major_code &lt;dbl&gt; | Major &lt;chr&gt; | Major_category &lt;chr&gt; | Total &lt;dbl&gt; | Employed &lt;dbl&gt; | Employed_full_time_year_round &lt;dbl&gt; | Unemployed &lt;dbl&gt; | Unemployment_rate &lt;dbl&gt; | Median &lt;dbl&gt; | P25th &lt;dbl&gt; | P75th &lt;dbl&gt; | Employment_rate &lt;dbl&gt; |\n",
       "|---|---|---|---|---|---|---|---|---|---|---|---|---|\n",
       "| 0 | 1100 | GENERAL AGRICULTURE                   | Agriculture &amp; Natural Resources | 128148 | 90245 | 74078 | 2423 | 0.02614711 | 50000 | 34000 | 80000 | 0.9738529 |\n",
       "| 1 | 1101 | AGRICULTURE PRODUCTION AND MANAGEMENT | Agriculture &amp; Natural Resources |  95326 | 76865 | 64240 | 2266 | 0.02863606 | 54000 | 36000 | 80000 | 0.9713639 |\n",
       "| 2 | 1102 | AGRICULTURAL ECONOMICS                | Agriculture &amp; Natural Resources |  33955 | 26321 | 22810 |  821 | 0.03024832 | 63000 | 40000 | 98000 | 0.9697517 |\n",
       "| 3 | 1103 | ANIMAL SCIENCES                       | Agriculture &amp; Natural Resources | 103549 | 81177 | 64937 | 3619 | 0.04267890 | 46000 | 30000 | 72000 | 0.9573211 |\n",
       "| 4 | 1104 | FOOD SCIENCE                          | Agriculture &amp; Natural Resources |  24280 | 17281 | 12722 |  894 | 0.04918845 | 62000 | 38500 | 90000 | 0.9508116 |\n",
       "| 5 | 1105 | PLANT SCIENCE AND AGRONOMY            | Agriculture &amp; Natural Resources |  79409 | 63043 | 51077 | 2070 | 0.03179089 | 50000 | 35000 | 75000 | 0.9682091 |\n",
       "\n"
      ],
      "text/plain": [
       "  index Major_code Major                                \n",
       "1 0     1100       GENERAL AGRICULTURE                  \n",
       "2 1     1101       AGRICULTURE PRODUCTION AND MANAGEMENT\n",
       "3 2     1102       AGRICULTURAL ECONOMICS               \n",
       "4 3     1103       ANIMAL SCIENCES                      \n",
       "5 4     1104       FOOD SCIENCE                         \n",
       "6 5     1105       PLANT SCIENCE AND AGRONOMY           \n",
       "  Major_category                  Total  Employed Employed_full_time_year_round\n",
       "1 Agriculture & Natural Resources 128148 90245    74078                        \n",
       "2 Agriculture & Natural Resources  95326 76865    64240                        \n",
       "3 Agriculture & Natural Resources  33955 26321    22810                        \n",
       "4 Agriculture & Natural Resources 103549 81177    64937                        \n",
       "5 Agriculture & Natural Resources  24280 17281    12722                        \n",
       "6 Agriculture & Natural Resources  79409 63043    51077                        \n",
       "  Unemployed Unemployment_rate Median P25th P75th Employment_rate\n",
       "1 2423       0.02614711        50000  34000 80000 0.9738529      \n",
       "2 2266       0.02863606        54000  36000 80000 0.9713639      \n",
       "3  821       0.03024832        63000  40000 98000 0.9697517      \n",
       "4 3619       0.04267890        46000  30000 72000 0.9573211      \n",
       "5  894       0.04918845        62000  38500 90000 0.9508116      \n",
       "6 2070       0.03179089        50000  35000 75000 0.9682091      "
      ]
     },
     "metadata": {},
     "output_type": "display_data"
    },
    {
     "data": {
      "text/html": [
       "<table class=\"dataframe\">\n",
       "<caption>A tibble: 6 × 13</caption>\n",
       "<thead>\n",
       "\t<tr><th scope=col>index</th><th scope=col>Major_code</th><th scope=col>Major</th><th scope=col>Major_category</th><th scope=col>Total</th><th scope=col>Employed</th><th scope=col>Employed_full_time_year_round</th><th scope=col>Unemployed</th><th scope=col>Unemployment_rate</th><th scope=col>Median</th><th scope=col>P25th</th><th scope=col>P75th</th><th scope=col>Employment_rate</th></tr>\n",
       "\t<tr><th scope=col>&lt;dbl&gt;</th><th scope=col>&lt;dbl&gt;</th><th scope=col>&lt;chr&gt;</th><th scope=col>&lt;chr&gt;</th><th scope=col>&lt;dbl&gt;</th><th scope=col>&lt;dbl&gt;</th><th scope=col>&lt;dbl&gt;</th><th scope=col>&lt;dbl&gt;</th><th scope=col>&lt;dbl&gt;</th><th scope=col>&lt;dbl&gt;</th><th scope=col>&lt;dbl&gt;</th><th scope=col>&lt;dbl&gt;</th><th scope=col>&lt;dbl&gt;</th></tr>\n",
       "</thead>\n",
       "<tbody>\n",
       "\t<tr><td>167</td><td>6210</td><td>INTERNATIONAL BUSINESS                         </td><td>Business                 </td><td> 86064</td><td> 66453</td><td> 51012</td><td> 5106</td><td>0.07135371</td><td>54000</td><td>38600</td><td> 80000</td><td>0.9286463</td></tr>\n",
       "\t<tr><td>168</td><td>6211</td><td>HOSPITALITY MANAGEMENT                         </td><td>Business                 </td><td>200854</td><td>163393</td><td>122499</td><td> 8862</td><td>0.05144698</td><td>49000</td><td>33000</td><td> 70000</td><td>0.9485530</td></tr>\n",
       "\t<tr><td>169</td><td>6212</td><td>MANAGEMENT INFORMATION SYSTEMS AND STATISTICS  </td><td>Business                 </td><td>156673</td><td>134478</td><td>118249</td><td> 6186</td><td>0.04397714</td><td>72000</td><td>50000</td><td>100000</td><td>0.9560229</td></tr>\n",
       "\t<tr><td>170</td><td>6299</td><td>MISCELLANEOUS BUSINESS &amp; MEDICAL ADMINISTRATION</td><td><span style=white-space:pre-wrap>Business                 </span></td><td>102753</td><td> 77471</td><td> 61603</td><td> 4308</td><td>0.05267856</td><td>53000</td><td>36000</td><td> 83000</td><td>0.9473214</td></tr>\n",
       "\t<tr><td>171</td><td>6402</td><td><span style=white-space:pre-wrap>HISTORY                                        </span></td><td>Humanities &amp; Liberal Arts</td><td>712509</td><td>478416</td><td>354163</td><td>33725</td><td>0.06585101</td><td>50000</td><td>35000</td><td> 80000</td><td>0.9341490</td></tr>\n",
       "\t<tr><td>172</td><td>6403</td><td><span style=white-space:pre-wrap>UNITED STATES HISTORY                          </span></td><td>Humanities &amp; Liberal Arts</td><td> 17746</td><td> 11887</td><td><span style=white-space:pre-wrap>  8204</span></td><td><span style=white-space:pre-wrap>  943</span></td><td>0.07349961</td><td>50000</td><td>39000</td><td> 81000</td><td>0.9265004</td></tr>\n",
       "</tbody>\n",
       "</table>\n"
      ],
      "text/latex": [
       "A tibble: 6 × 13\n",
       "\\begin{tabular}{lllllllllllll}\n",
       " index & Major\\_code & Major & Major\\_category & Total & Employed & Employed\\_full\\_time\\_year\\_round & Unemployed & Unemployment\\_rate & Median & P25th & P75th & Employment\\_rate\\\\\n",
       " <dbl> & <dbl> & <chr> & <chr> & <dbl> & <dbl> & <dbl> & <dbl> & <dbl> & <dbl> & <dbl> & <dbl> & <dbl>\\\\\n",
       "\\hline\n",
       "\t 167 & 6210 & INTERNATIONAL BUSINESS                          & Business                  &  86064 &  66453 &  51012 &  5106 & 0.07135371 & 54000 & 38600 &  80000 & 0.9286463\\\\\n",
       "\t 168 & 6211 & HOSPITALITY MANAGEMENT                          & Business                  & 200854 & 163393 & 122499 &  8862 & 0.05144698 & 49000 & 33000 &  70000 & 0.9485530\\\\\n",
       "\t 169 & 6212 & MANAGEMENT INFORMATION SYSTEMS AND STATISTICS   & Business                  & 156673 & 134478 & 118249 &  6186 & 0.04397714 & 72000 & 50000 & 100000 & 0.9560229\\\\\n",
       "\t 170 & 6299 & MISCELLANEOUS BUSINESS \\& MEDICAL ADMINISTRATION & Business                  & 102753 &  77471 &  61603 &  4308 & 0.05267856 & 53000 & 36000 &  83000 & 0.9473214\\\\\n",
       "\t 171 & 6402 & HISTORY                                         & Humanities \\& Liberal Arts & 712509 & 478416 & 354163 & 33725 & 0.06585101 & 50000 & 35000 &  80000 & 0.9341490\\\\\n",
       "\t 172 & 6403 & UNITED STATES HISTORY                           & Humanities \\& Liberal Arts &  17746 &  11887 &   8204 &   943 & 0.07349961 & 50000 & 39000 &  81000 & 0.9265004\\\\\n",
       "\\end{tabular}\n"
      ],
      "text/markdown": [
       "\n",
       "A tibble: 6 × 13\n",
       "\n",
       "| index &lt;dbl&gt; | Major_code &lt;dbl&gt; | Major &lt;chr&gt; | Major_category &lt;chr&gt; | Total &lt;dbl&gt; | Employed &lt;dbl&gt; | Employed_full_time_year_round &lt;dbl&gt; | Unemployed &lt;dbl&gt; | Unemployment_rate &lt;dbl&gt; | Median &lt;dbl&gt; | P25th &lt;dbl&gt; | P75th &lt;dbl&gt; | Employment_rate &lt;dbl&gt; |\n",
       "|---|---|---|---|---|---|---|---|---|---|---|---|---|\n",
       "| 167 | 6210 | INTERNATIONAL BUSINESS                          | Business                  |  86064 |  66453 |  51012 |  5106 | 0.07135371 | 54000 | 38600 |  80000 | 0.9286463 |\n",
       "| 168 | 6211 | HOSPITALITY MANAGEMENT                          | Business                  | 200854 | 163393 | 122499 |  8862 | 0.05144698 | 49000 | 33000 |  70000 | 0.9485530 |\n",
       "| 169 | 6212 | MANAGEMENT INFORMATION SYSTEMS AND STATISTICS   | Business                  | 156673 | 134478 | 118249 |  6186 | 0.04397714 | 72000 | 50000 | 100000 | 0.9560229 |\n",
       "| 170 | 6299 | MISCELLANEOUS BUSINESS &amp; MEDICAL ADMINISTRATION | Business                  | 102753 |  77471 |  61603 |  4308 | 0.05267856 | 53000 | 36000 |  83000 | 0.9473214 |\n",
       "| 171 | 6402 | HISTORY                                         | Humanities &amp; Liberal Arts | 712509 | 478416 | 354163 | 33725 | 0.06585101 | 50000 | 35000 |  80000 | 0.9341490 |\n",
       "| 172 | 6403 | UNITED STATES HISTORY                           | Humanities &amp; Liberal Arts |  17746 |  11887 |   8204 |   943 | 0.07349961 | 50000 | 39000 |  81000 | 0.9265004 |\n",
       "\n"
      ],
      "text/plain": [
       "  index Major_code Major                                          \n",
       "1 167   6210       INTERNATIONAL BUSINESS                         \n",
       "2 168   6211       HOSPITALITY MANAGEMENT                         \n",
       "3 169   6212       MANAGEMENT INFORMATION SYSTEMS AND STATISTICS  \n",
       "4 170   6299       MISCELLANEOUS BUSINESS & MEDICAL ADMINISTRATION\n",
       "5 171   6402       HISTORY                                        \n",
       "6 172   6403       UNITED STATES HISTORY                          \n",
       "  Major_category            Total  Employed Employed_full_time_year_round\n",
       "1 Business                   86064  66453    51012                       \n",
       "2 Business                  200854 163393   122499                       \n",
       "3 Business                  156673 134478   118249                       \n",
       "4 Business                  102753  77471    61603                       \n",
       "5 Humanities & Liberal Arts 712509 478416   354163                       \n",
       "6 Humanities & Liberal Arts  17746  11887     8204                       \n",
       "  Unemployed Unemployment_rate Median P25th P75th  Employment_rate\n",
       "1  5106      0.07135371        54000  38600  80000 0.9286463      \n",
       "2  8862      0.05144698        49000  33000  70000 0.9485530      \n",
       "3  6186      0.04397714        72000  50000 100000 0.9560229      \n",
       "4  4308      0.05267856        53000  36000  83000 0.9473214      \n",
       "5 33725      0.06585101        50000  35000  80000 0.9341490      \n",
       "6   943      0.07349961        50000  39000  81000 0.9265004      "
      ]
     },
     "metadata": {},
     "output_type": "display_data"
    },
    {
     "data": {
      "text/html": [
       "<table class=\"dataframe\">\n",
       "<caption>A tibble: 6 × 2</caption>\n",
       "<thead>\n",
       "\t<tr><th scope=col>Employment_rate</th><th scope=col>P25th</th></tr>\n",
       "\t<tr><th scope=col>&lt;dbl&gt;</th><th scope=col>&lt;dbl&gt;</th></tr>\n",
       "</thead>\n",
       "<tbody>\n",
       "\t<tr><td>0.9738529</td><td>34000</td></tr>\n",
       "\t<tr><td>0.9713639</td><td>36000</td></tr>\n",
       "\t<tr><td>0.9697517</td><td>40000</td></tr>\n",
       "\t<tr><td>0.9573211</td><td>30000</td></tr>\n",
       "\t<tr><td>0.9508116</td><td>38500</td></tr>\n",
       "\t<tr><td>0.9682091</td><td>35000</td></tr>\n",
       "</tbody>\n",
       "</table>\n"
      ],
      "text/latex": [
       "A tibble: 6 × 2\n",
       "\\begin{tabular}{ll}\n",
       " Employment\\_rate & P25th\\\\\n",
       " <dbl> & <dbl>\\\\\n",
       "\\hline\n",
       "\t 0.9738529 & 34000\\\\\n",
       "\t 0.9713639 & 36000\\\\\n",
       "\t 0.9697517 & 40000\\\\\n",
       "\t 0.9573211 & 30000\\\\\n",
       "\t 0.9508116 & 38500\\\\\n",
       "\t 0.9682091 & 35000\\\\\n",
       "\\end{tabular}\n"
      ],
      "text/markdown": [
       "\n",
       "A tibble: 6 × 2\n",
       "\n",
       "| Employment_rate &lt;dbl&gt; | P25th &lt;dbl&gt; |\n",
       "|---|---|\n",
       "| 0.9738529 | 34000 |\n",
       "| 0.9713639 | 36000 |\n",
       "| 0.9697517 | 40000 |\n",
       "| 0.9573211 | 30000 |\n",
       "| 0.9508116 | 38500 |\n",
       "| 0.9682091 | 35000 |\n",
       "\n"
      ],
      "text/plain": [
       "  Employment_rate P25th\n",
       "1 0.9738529       34000\n",
       "2 0.9713639       36000\n",
       "3 0.9697517       40000\n",
       "4 0.9573211       30000\n",
       "5 0.9508116       38500\n",
       "6 0.9682091       35000"
      ]
     },
     "metadata": {},
     "output_type": "display_data"
    },
    {
     "data": {
      "text/html": [
       "<table class=\"dataframe\">\n",
       "<caption>A tibble: 6 × 2</caption>\n",
       "<thead>\n",
       "\t<tr><th scope=col>Employment_rate</th><th scope=col>P25th</th></tr>\n",
       "\t<tr><th scope=col>&lt;dbl&gt;</th><th scope=col>&lt;dbl&gt;</th></tr>\n",
       "</thead>\n",
       "<tbody>\n",
       "\t<tr><td>0.9286463</td><td>38600</td></tr>\n",
       "\t<tr><td>0.9485530</td><td>33000</td></tr>\n",
       "\t<tr><td>0.9560229</td><td>50000</td></tr>\n",
       "\t<tr><td>0.9473214</td><td>36000</td></tr>\n",
       "\t<tr><td>0.9341490</td><td>35000</td></tr>\n",
       "\t<tr><td>0.9265004</td><td>39000</td></tr>\n",
       "</tbody>\n",
       "</table>\n"
      ],
      "text/latex": [
       "A tibble: 6 × 2\n",
       "\\begin{tabular}{ll}\n",
       " Employment\\_rate & P25th\\\\\n",
       " <dbl> & <dbl>\\\\\n",
       "\\hline\n",
       "\t 0.9286463 & 38600\\\\\n",
       "\t 0.9485530 & 33000\\\\\n",
       "\t 0.9560229 & 50000\\\\\n",
       "\t 0.9473214 & 36000\\\\\n",
       "\t 0.9341490 & 35000\\\\\n",
       "\t 0.9265004 & 39000\\\\\n",
       "\\end{tabular}\n"
      ],
      "text/markdown": [
       "\n",
       "A tibble: 6 × 2\n",
       "\n",
       "| Employment_rate &lt;dbl&gt; | P25th &lt;dbl&gt; |\n",
       "|---|---|\n",
       "| 0.9286463 | 38600 |\n",
       "| 0.9485530 | 33000 |\n",
       "| 0.9560229 | 50000 |\n",
       "| 0.9473214 | 36000 |\n",
       "| 0.9341490 | 35000 |\n",
       "| 0.9265004 | 39000 |\n",
       "\n"
      ],
      "text/plain": [
       "  Employment_rate P25th\n",
       "1 0.9286463       38600\n",
       "2 0.9485530       33000\n",
       "3 0.9560229       50000\n",
       "4 0.9473214       36000\n",
       "5 0.9341490       35000\n",
       "6 0.9265004       39000"
      ]
     },
     "metadata": {},
     "output_type": "display_data"
    },
    {
     "data": {
      "text/html": [
       "<table class=\"dataframe\">\n",
       "<caption>A tibble: 6 × 2</caption>\n",
       "<thead>\n",
       "\t<tr><th scope=col>Employment_rate</th><th scope=col>Median</th></tr>\n",
       "\t<tr><th scope=col>&lt;dbl&gt;</th><th scope=col>&lt;dbl&gt;</th></tr>\n",
       "</thead>\n",
       "<tbody>\n",
       "\t<tr><td>0.9738529</td><td>50000</td></tr>\n",
       "\t<tr><td>0.9713639</td><td>54000</td></tr>\n",
       "\t<tr><td>0.9697517</td><td>63000</td></tr>\n",
       "\t<tr><td>0.9573211</td><td>46000</td></tr>\n",
       "\t<tr><td>0.9508116</td><td>62000</td></tr>\n",
       "\t<tr><td>0.9682091</td><td>50000</td></tr>\n",
       "</tbody>\n",
       "</table>\n"
      ],
      "text/latex": [
       "A tibble: 6 × 2\n",
       "\\begin{tabular}{ll}\n",
       " Employment\\_rate & Median\\\\\n",
       " <dbl> & <dbl>\\\\\n",
       "\\hline\n",
       "\t 0.9738529 & 50000\\\\\n",
       "\t 0.9713639 & 54000\\\\\n",
       "\t 0.9697517 & 63000\\\\\n",
       "\t 0.9573211 & 46000\\\\\n",
       "\t 0.9508116 & 62000\\\\\n",
       "\t 0.9682091 & 50000\\\\\n",
       "\\end{tabular}\n"
      ],
      "text/markdown": [
       "\n",
       "A tibble: 6 × 2\n",
       "\n",
       "| Employment_rate &lt;dbl&gt; | Median &lt;dbl&gt; |\n",
       "|---|---|\n",
       "| 0.9738529 | 50000 |\n",
       "| 0.9713639 | 54000 |\n",
       "| 0.9697517 | 63000 |\n",
       "| 0.9573211 | 46000 |\n",
       "| 0.9508116 | 62000 |\n",
       "| 0.9682091 | 50000 |\n",
       "\n"
      ],
      "text/plain": [
       "  Employment_rate Median\n",
       "1 0.9738529       50000 \n",
       "2 0.9713639       54000 \n",
       "3 0.9697517       63000 \n",
       "4 0.9573211       46000 \n",
       "5 0.9508116       62000 \n",
       "6 0.9682091       50000 "
      ]
     },
     "metadata": {},
     "output_type": "display_data"
    },
    {
     "data": {
      "text/html": [
       "<table class=\"dataframe\">\n",
       "<caption>A tibble: 6 × 2</caption>\n",
       "<thead>\n",
       "\t<tr><th scope=col>Employment_rate</th><th scope=col>Median</th></tr>\n",
       "\t<tr><th scope=col>&lt;dbl&gt;</th><th scope=col>&lt;dbl&gt;</th></tr>\n",
       "</thead>\n",
       "<tbody>\n",
       "\t<tr><td>0.9286463</td><td>54000</td></tr>\n",
       "\t<tr><td>0.9485530</td><td>49000</td></tr>\n",
       "\t<tr><td>0.9560229</td><td>72000</td></tr>\n",
       "\t<tr><td>0.9473214</td><td>53000</td></tr>\n",
       "\t<tr><td>0.9341490</td><td>50000</td></tr>\n",
       "\t<tr><td>0.9265004</td><td>50000</td></tr>\n",
       "</tbody>\n",
       "</table>\n"
      ],
      "text/latex": [
       "A tibble: 6 × 2\n",
       "\\begin{tabular}{ll}\n",
       " Employment\\_rate & Median\\\\\n",
       " <dbl> & <dbl>\\\\\n",
       "\\hline\n",
       "\t 0.9286463 & 54000\\\\\n",
       "\t 0.9485530 & 49000\\\\\n",
       "\t 0.9560229 & 72000\\\\\n",
       "\t 0.9473214 & 53000\\\\\n",
       "\t 0.9341490 & 50000\\\\\n",
       "\t 0.9265004 & 50000\\\\\n",
       "\\end{tabular}\n"
      ],
      "text/markdown": [
       "\n",
       "A tibble: 6 × 2\n",
       "\n",
       "| Employment_rate &lt;dbl&gt; | Median &lt;dbl&gt; |\n",
       "|---|---|\n",
       "| 0.9286463 | 54000 |\n",
       "| 0.9485530 | 49000 |\n",
       "| 0.9560229 | 72000 |\n",
       "| 0.9473214 | 53000 |\n",
       "| 0.9341490 | 50000 |\n",
       "| 0.9265004 | 50000 |\n",
       "\n"
      ],
      "text/plain": [
       "  Employment_rate Median\n",
       "1 0.9286463       54000 \n",
       "2 0.9485530       49000 \n",
       "3 0.9560229       72000 \n",
       "4 0.9473214       53000 \n",
       "5 0.9341490       50000 \n",
       "6 0.9265004       50000 "
      ]
     },
     "metadata": {},
     "output_type": "display_data"
    },
    {
     "data": {
      "text/html": [
       "<table class=\"dataframe\">\n",
       "<caption>A tibble: 6 × 2</caption>\n",
       "<thead>\n",
       "\t<tr><th scope=col>Employment_rate</th><th scope=col>P75th</th></tr>\n",
       "\t<tr><th scope=col>&lt;dbl&gt;</th><th scope=col>&lt;dbl&gt;</th></tr>\n",
       "</thead>\n",
       "<tbody>\n",
       "\t<tr><td>0.9738529</td><td>80000</td></tr>\n",
       "\t<tr><td>0.9713639</td><td>80000</td></tr>\n",
       "\t<tr><td>0.9697517</td><td>98000</td></tr>\n",
       "\t<tr><td>0.9573211</td><td>72000</td></tr>\n",
       "\t<tr><td>0.9508116</td><td>90000</td></tr>\n",
       "\t<tr><td>0.9682091</td><td>75000</td></tr>\n",
       "</tbody>\n",
       "</table>\n"
      ],
      "text/latex": [
       "A tibble: 6 × 2\n",
       "\\begin{tabular}{ll}\n",
       " Employment\\_rate & P75th\\\\\n",
       " <dbl> & <dbl>\\\\\n",
       "\\hline\n",
       "\t 0.9738529 & 80000\\\\\n",
       "\t 0.9713639 & 80000\\\\\n",
       "\t 0.9697517 & 98000\\\\\n",
       "\t 0.9573211 & 72000\\\\\n",
       "\t 0.9508116 & 90000\\\\\n",
       "\t 0.9682091 & 75000\\\\\n",
       "\\end{tabular}\n"
      ],
      "text/markdown": [
       "\n",
       "A tibble: 6 × 2\n",
       "\n",
       "| Employment_rate &lt;dbl&gt; | P75th &lt;dbl&gt; |\n",
       "|---|---|\n",
       "| 0.9738529 | 80000 |\n",
       "| 0.9713639 | 80000 |\n",
       "| 0.9697517 | 98000 |\n",
       "| 0.9573211 | 72000 |\n",
       "| 0.9508116 | 90000 |\n",
       "| 0.9682091 | 75000 |\n",
       "\n"
      ],
      "text/plain": [
       "  Employment_rate P75th\n",
       "1 0.9738529       80000\n",
       "2 0.9713639       80000\n",
       "3 0.9697517       98000\n",
       "4 0.9573211       72000\n",
       "5 0.9508116       90000\n",
       "6 0.9682091       75000"
      ]
     },
     "metadata": {},
     "output_type": "display_data"
    },
    {
     "data": {
      "text/html": [
       "<table class=\"dataframe\">\n",
       "<caption>A tibble: 6 × 2</caption>\n",
       "<thead>\n",
       "\t<tr><th scope=col>Employment_rate</th><th scope=col>P75th</th></tr>\n",
       "\t<tr><th scope=col>&lt;dbl&gt;</th><th scope=col>&lt;dbl&gt;</th></tr>\n",
       "</thead>\n",
       "<tbody>\n",
       "\t<tr><td>0.9286463</td><td> 80000</td></tr>\n",
       "\t<tr><td>0.9485530</td><td> 70000</td></tr>\n",
       "\t<tr><td>0.9560229</td><td>100000</td></tr>\n",
       "\t<tr><td>0.9473214</td><td> 83000</td></tr>\n",
       "\t<tr><td>0.9341490</td><td> 80000</td></tr>\n",
       "\t<tr><td>0.9265004</td><td> 81000</td></tr>\n",
       "</tbody>\n",
       "</table>\n"
      ],
      "text/latex": [
       "A tibble: 6 × 2\n",
       "\\begin{tabular}{ll}\n",
       " Employment\\_rate & P75th\\\\\n",
       " <dbl> & <dbl>\\\\\n",
       "\\hline\n",
       "\t 0.9286463 &  80000\\\\\n",
       "\t 0.9485530 &  70000\\\\\n",
       "\t 0.9560229 & 100000\\\\\n",
       "\t 0.9473214 &  83000\\\\\n",
       "\t 0.9341490 &  80000\\\\\n",
       "\t 0.9265004 &  81000\\\\\n",
       "\\end{tabular}\n"
      ],
      "text/markdown": [
       "\n",
       "A tibble: 6 × 2\n",
       "\n",
       "| Employment_rate &lt;dbl&gt; | P75th &lt;dbl&gt; |\n",
       "|---|---|\n",
       "| 0.9286463 |  80000 |\n",
       "| 0.9485530 |  70000 |\n",
       "| 0.9560229 | 100000 |\n",
       "| 0.9473214 |  83000 |\n",
       "| 0.9341490 |  80000 |\n",
       "| 0.9265004 |  81000 |\n",
       "\n"
      ],
      "text/plain": [
       "  Employment_rate P75th \n",
       "1 0.9286463        80000\n",
       "2 0.9485530        70000\n",
       "3 0.9560229       100000\n",
       "4 0.9473214        83000\n",
       "5 0.9341490        80000\n",
       "6 0.9265004        81000"
      ]
     },
     "metadata": {},
     "output_type": "display_data"
    }
   ],
   "source": [
    "## reads the data of the average salary of graduates with a certain degree and major\n",
    "## and add in a column for employment rate by taking the opposite of the umemployment rate\n",
    "data <- read_csv(file = \"https://raw.githubusercontent.com/colin-c/Salaries-in-Science/main/data/all-ages.csv\") |>\n",
    "    mutate(Employment_rate = 1 - Unemployment_rate) \n",
    "\n",
    "head(data)\n",
    "tail(data)\n",
    "\n",
    "## split the data set into three sets, according to the different percentiles in use (25th, 50th (median), 75th)\n",
    "## p25th_data\n",
    "## p50th_data\n",
    "## p75th_data\n",
    "\n",
    "p25th_data <- data |>\n",
    "    select(Employment_rate, P25th)\n",
    "head(p25th_data)\n",
    "tail(p25th_data)\n",
    "\n",
    "p50th_data <- data |>\n",
    "    select(Employment_rate, Median)\n",
    "head(p50th_data)\n",
    "tail(p50th_data)\n",
    "\n",
    "p75th_data <- data |>\n",
    "    select(Employment_rate, P75th)\n",
    "head(p75th_data)\n",
    "tail(p75th_data)"
   ]
  },
  {
   "cell_type": "markdown",
   "id": "d98b1cbb-9b70-43ed-9de7-d54318a8aede",
   "metadata": {},
   "source": [
    "#### Plot each scatter plot relating to the different salary percentiles"
   ]
  },
  {
   "cell_type": "code",
   "execution_count": 3,
   "id": "e22a34bd-8bc4-436f-a63f-13ac99bd3922",
   "metadata": {},
   "outputs": [
    {
     "data": {
      "image/png": "[encoded data removed]",
      "text/plain": [
       "plot without title"
      ]
     },
     "metadata": {
      "image/png": {
       "height": 420,
       "width": 420
      }
     },
     "output_type": "display_data"
    },
    {
     "data": {
      "image/png": "[encoded data removed]",
      "text/plain": [
       "plot without title"
      ]
     },
     "metadata": {
      "image/png": {
       "height": 420,
       "width": 420
      }
     },
     "output_type": "display_data"
    },
    {
     "data": {
      "image/png": "[encoded data removed]",
      "text/plain": [
       "plot without title"
      ]
     },
     "metadata": {
      "image/png": {
       "height": 420,
       "width": 420
      }
     },
     "output_type": "display_data"
    }
   ],
   "source": [
    "## Before the classifiction, creating a visualizing of the data where\n",
    "## the predictor variable, Salary is on the x-axis and the response\n",
    "## variable, Employment Rate is on the y-axis\n",
    "\n",
    "p50th_plot <- p50th_data |>\n",
    "    ggplot(aes(x = Median, y = Employment_rate)) +\n",
    "    geom_point() +\n",
    "    labs(x = \"Median Salary (USD)\", y = \"Employment Rate (%)\") +\n",
    "    ggtitle(\"50th Percentile Salary\") +\n",
    "    theme(text = element_text(size=12))\n",
    "p50th_plot \n",
    "\n",
    "p25th_plot <- p25th_data |>\n",
    "    ggplot(aes(x = P25th, y = Employment_rate)) +\n",
    "    geom_point() +\n",
    "    labs(x = \"25th Percentile Salary (USD)\", y = \"Employment Rate (%)\") +\n",
    "    ggtitle(\"25th Percentile Salary\") +\n",
    "    theme(text = element_text(size=12))\n",
    "p25th_plot\n",
    "\n",
    "p75th_plot <- p75th_data |>\n",
    "    ggplot(aes(x = P75th, y = Employment_rate)) +\n",
    "    geom_point() +\n",
    "    labs(x = \"75th Percentile Salary (USD)\", y = \"Employment Rate (%)\") +\n",
    "    ggtitle(\"75th Percentile Salary\") +\n",
    "    theme(text = element_text(size=12))\n",
    "p75th_plot "
   ]
  },
  {
   "cell_type": "markdown",
   "id": "a86913a9-25de-4eb8-a6ed-44417caee199",
   "metadata": {},
   "source": [
    "## 25th Percentile Salary Data"
   ]
  },
  {
   "cell_type": "code",
   "execution_count": 5,
   "id": "a8d7433d-5db1-4aa3-838f-bb3eebbc8d84",
   "metadata": {},
   "outputs": [
    {
     "data": {
      "text/html": [
       "<table class=\"dataframe\">\n",
       "<caption>A tibble: 6 × 2</caption>\n",
       "<thead>\n",
       "\t<tr><th scope=col>Employment_rate</th><th scope=col>P25th</th></tr>\n",
       "\t<tr><th scope=col>&lt;dbl&gt;</th><th scope=col>&lt;dbl&gt;</th></tr>\n",
       "</thead>\n",
       "<tbody>\n",
       "\t<tr><td>0.9367834</td><td>34000</td></tr>\n",
       "\t<tr><td>0.9494912</td><td>60000</td></tr>\n",
       "\t<tr><td>0.9412075</td><td>33500</td></tr>\n",
       "\t<tr><td>0.9449671</td><td>38500</td></tr>\n",
       "\t<tr><td>0.9243689</td><td>33000</td></tr>\n",
       "\t<tr><td>0.9162862</td><td>24900</td></tr>\n",
       "</tbody>\n",
       "</table>\n"
      ],
      "text/latex": [
       "A tibble: 6 × 2\n",
       "\\begin{tabular}{ll}\n",
       " Employment\\_rate & P25th\\\\\n",
       " <dbl> & <dbl>\\\\\n",
       "\\hline\n",
       "\t 0.9367834 & 34000\\\\\n",
       "\t 0.9494912 & 60000\\\\\n",
       "\t 0.9412075 & 33500\\\\\n",
       "\t 0.9449671 & 38500\\\\\n",
       "\t 0.9243689 & 33000\\\\\n",
       "\t 0.9162862 & 24900\\\\\n",
       "\\end{tabular}\n"
      ],
      "text/markdown": [
       "\n",
       "A tibble: 6 × 2\n",
       "\n",
       "| Employment_rate &lt;dbl&gt; | P25th &lt;dbl&gt; |\n",
       "|---|---|\n",
       "| 0.9367834 | 34000 |\n",
       "| 0.9494912 | 60000 |\n",
       "| 0.9412075 | 33500 |\n",
       "| 0.9449671 | 38500 |\n",
       "| 0.9243689 | 33000 |\n",
       "| 0.9162862 | 24900 |\n",
       "\n"
      ],
      "text/plain": [
       "  Employment_rate P25th\n",
       "1 0.9367834       34000\n",
       "2 0.9494912       60000\n",
       "3 0.9412075       33500\n",
       "4 0.9449671       38500\n",
       "5 0.9243689       33000\n",
       "6 0.9162862       24900"
      ]
     },
     "metadata": {},
     "output_type": "display_data"
    }
   ],
   "source": [
    "## splits data into training and testing\n",
    "set.seed(38)\n",
    "\n",
    "p25th_data_split <- initial_split(p25th_data, prop = 0.75, strata = NULL)\n",
    "p25th_data_training <- training(p25th_data_split)\n",
    "p25th_data_testing <- testing(p25th_data_split)\n",
    "\n",
    "head(p25th_data_training)"
   ]
  },
  {
   "cell_type": "code",
   "execution_count": 8,
   "id": "fb8788ac-fd1e-4684-bab2-db13a7255351",
   "metadata": {},
   "outputs": [
    {
     "data": {
      "text/plain": [
       "══ Workflow ════════════════════════════════════════════════════════════════════\n",
       "\u001b[3mPreprocessor:\u001b[23m Recipe\n",
       "\u001b[3mModel:\u001b[23m nearest_neighbor()\n",
       "\n",
       "── Preprocessor ────────────────────────────────────────────────────────────────\n",
       "2 Recipe Steps\n",
       "\n",
       "• step_scale()\n",
       "• step_center()\n",
       "\n",
       "── Model ───────────────────────────────────────────────────────────────────────\n",
       "K-Nearest Neighbor Model Specification (regression)\n",
       "\n",
       "Main Arguments:\n",
       "  neighbors = tune()\n",
       "  weight_func = rectangular\n",
       "\n",
       "Computational engine: kknn \n"
      ]
     },
     "metadata": {},
     "output_type": "display_data"
    }
   ],
   "source": [
    "# Using cross-validation to choose K\n",
    "\n",
    "p25th_recipe <- recipe(Employment_rate ~ P25th, data = p25th_data_training) |>\n",
    "  step_scale(all_predictors()) |>\n",
    "  step_center(all_predictors())\n",
    "\n",
    "p25th_spec <- nearest_neighbor(weight_func = \"rectangular\", \n",
    "                                      neighbors = tune()) |>\n",
    "                        set_engine(\"kknn\") |>\n",
    "                        set_mode(\"regression\")\n",
    "\n",
    "p25th_vfold <- vfold_cv(p25th_data_training, v = 5, strata = Employment_rate)\n",
    "\n",
    "p25th_wkflw <- workflow() |>\n",
    "  add_recipe(p25th_recipe) |>\n",
    "  add_model(p25th_spec)\n",
    "\n",
    "p25th_wkflw"
   ]
  },
  {
   "cell_type": "code",
   "execution_count": 10,
   "id": "6a9e554d-1d9a-45e6-aa8e-d9aa684296d9",
   "metadata": {},
   "outputs": [
    {
     "name": "stderr",
     "output_type": "stream",
     "text": [
      "\u001b[33m!\u001b[39m \u001b[33mFold1: preprocessor 1/1, model 1/1: 101 samples were requested but there were 101 rows in the data. 96 will ...\u001b[39m\n",
      "\n",
      "\u001b[33m!\u001b[39m \u001b[33mFold2: preprocessor 1/1, model 1/1: 101 samples were requested but there were 101 rows in the data. 96 will ...\u001b[39m\n",
      "\n",
      "\u001b[33m!\u001b[39m \u001b[33mFold3: preprocessor 1/1, model 1/1: 101 samples were requested but there were 104 rows in the data. 99 will ...\u001b[39m\n",
      "\n",
      "\u001b[33m!\u001b[39m \u001b[33mFold4: preprocessor 1/1, model 1/1: 101 samples were requested but there were 105 rows in the data. 100 will...\u001b[39m\n",
      "\n",
      "\u001b[33m!\u001b[39m \u001b[33mFold5: preprocessor 1/1, model 1/1: 101 samples were requested but there were 105 rows in the data. 100 will...\u001b[39m\n",
      "\n"
     ]
    },
    {
     "data": {
      "text/html": [
       "<table class=\"dataframe\">\n",
       "<caption>A tibble: 101 × 7</caption>\n",
       "<thead>\n",
       "\t<tr><th scope=col>neighbors</th><th scope=col>.metric</th><th scope=col>.estimator</th><th scope=col>mean</th><th scope=col>n</th><th scope=col>std_err</th><th scope=col>.config</th></tr>\n",
       "\t<tr><th scope=col>&lt;int&gt;</th><th scope=col>&lt;chr&gt;</th><th scope=col>&lt;chr&gt;</th><th scope=col>&lt;dbl&gt;</th><th scope=col>&lt;int&gt;</th><th scope=col>&lt;dbl&gt;</th><th scope=col>&lt;chr&gt;</th></tr>\n",
       "</thead>\n",
       "<tbody>\n",
       "\t<tr><td>1</td><td>rmse</td><td>standard</td><td>0.02279571</td><td>5</td><td>0.0015898903</td><td>Preprocessor1_Model001</td></tr>\n",
       "\t<tr><td>2</td><td>rmse</td><td>standard</td><td>0.01855573</td><td>5</td><td>0.0013240116</td><td>Preprocessor1_Model002</td></tr>\n",
       "\t<tr><td>3</td><td>rmse</td><td>standard</td><td>0.01827059</td><td>5</td><td>0.0013922888</td><td>Preprocessor1_Model003</td></tr>\n",
       "\t<tr><td>4</td><td>rmse</td><td>standard</td><td>0.01790188</td><td>5</td><td>0.0009908979</td><td>Preprocessor1_Model004</td></tr>\n",
       "\t<tr><td>5</td><td>rmse</td><td>standard</td><td>0.01787894</td><td>5</td><td>0.0008674281</td><td>Preprocessor1_Model005</td></tr>\n",
       "\t<tr><td>6</td><td>rmse</td><td>standard</td><td>0.01757721</td><td>5</td><td>0.0008837169</td><td>Preprocessor1_Model006</td></tr>\n",
       "\t<tr><td>7</td><td>rmse</td><td>standard</td><td>0.01745423</td><td>5</td><td>0.0010690693</td><td>Preprocessor1_Model007</td></tr>\n",
       "\t<tr><td>8</td><td>rmse</td><td>standard</td><td>0.01743608</td><td>5</td><td>0.0009366920</td><td>Preprocessor1_Model008</td></tr>\n",
       "\t<tr><td>⋮</td><td>⋮</td><td>⋮</td><td>⋮</td><td>⋮</td><td>⋮</td><td>⋮</td></tr>\n",
       "\t<tr><td> 95</td><td>rmse</td><td>standard</td><td>0.01653707</td><td>5</td><td>0.0007725417</td><td>Preprocessor1_Model095</td></tr>\n",
       "\t<tr><td> 96</td><td>rmse</td><td>standard</td><td>0.01656278</td><td>5</td><td>0.0007849753</td><td>Preprocessor1_Model096</td></tr>\n",
       "\t<tr><td> 97</td><td>rmse</td><td>standard</td><td>0.01657226</td><td>5</td><td>0.0007968227</td><td>Preprocessor1_Model097</td></tr>\n",
       "\t<tr><td> 98</td><td>rmse</td><td>standard</td><td>0.01660316</td><td>5</td><td>0.0008022788</td><td>Preprocessor1_Model098</td></tr>\n",
       "\t<tr><td> 99</td><td>rmse</td><td>standard</td><td>0.01664257</td><td>5</td><td>0.0008096566</td><td>Preprocessor1_Model099</td></tr>\n",
       "\t<tr><td>100</td><td>rmse</td><td>standard</td><td>0.01667014</td><td>5</td><td>0.0008348802</td><td>Preprocessor1_Model100</td></tr>\n",
       "\t<tr><td>101</td><td>rmse</td><td>standard</td><td>0.01662707</td><td>5</td><td>0.0008184543</td><td>Preprocessor1_Model101</td></tr>\n",
       "</tbody>\n",
       "</table>\n"
      ],
      "text/latex": [
       "A tibble: 101 × 7\n",
       "\\begin{tabular}{lllllll}\n",
       " neighbors & .metric & .estimator & mean & n & std\\_err & .config\\\\\n",
       " <int> & <chr> & <chr> & <dbl> & <int> & <dbl> & <chr>\\\\\n",
       "\\hline\n",
       "\t 1 & rmse & standard & 0.02279571 & 5 & 0.0015898903 & Preprocessor1\\_Model001\\\\\n",
       "\t 2 & rmse & standard & 0.01855573 & 5 & 0.0013240116 & Preprocessor1\\_Model002\\\\\n",
       "\t 3 & rmse & standard & 0.01827059 & 5 & 0.0013922888 & Preprocessor1\\_Model003\\\\\n",
       "\t 4 & rmse & standard & 0.01790188 & 5 & 0.0009908979 & Preprocessor1\\_Model004\\\\\n",
       "\t 5 & rmse & standard & 0.01787894 & 5 & 0.0008674281 & Preprocessor1\\_Model005\\\\\n",
       "\t 6 & rmse & standard & 0.01757721 & 5 & 0.0008837169 & Preprocessor1\\_Model006\\\\\n",
       "\t 7 & rmse & standard & 0.01745423 & 5 & 0.0010690693 & Preprocessor1\\_Model007\\\\\n",
       "\t 8 & rmse & standard & 0.01743608 & 5 & 0.0009366920 & Preprocessor1\\_Model008\\\\\n",
       "\t ⋮ & ⋮ & ⋮ & ⋮ & ⋮ & ⋮ & ⋮\\\\\n",
       "\t  95 & rmse & standard & 0.01653707 & 5 & 0.0007725417 & Preprocessor1\\_Model095\\\\\n",
       "\t  96 & rmse & standard & 0.01656278 & 5 & 0.0007849753 & Preprocessor1\\_Model096\\\\\n",
       "\t  97 & rmse & standard & 0.01657226 & 5 & 0.0007968227 & Preprocessor1\\_Model097\\\\\n",
       "\t  98 & rmse & standard & 0.01660316 & 5 & 0.0008022788 & Preprocessor1\\_Model098\\\\\n",
       "\t  99 & rmse & standard & 0.01664257 & 5 & 0.0008096566 & Preprocessor1\\_Model099\\\\\n",
       "\t 100 & rmse & standard & 0.01667014 & 5 & 0.0008348802 & Preprocessor1\\_Model100\\\\\n",
       "\t 101 & rmse & standard & 0.01662707 & 5 & 0.0008184543 & Preprocessor1\\_Model101\\\\\n",
       "\\end{tabular}\n"
      ],
      "text/markdown": [
       "\n",
       "A tibble: 101 × 7\n",
       "\n",
       "| neighbors &lt;int&gt; | .metric &lt;chr&gt; | .estimator &lt;chr&gt; | mean &lt;dbl&gt; | n &lt;int&gt; | std_err &lt;dbl&gt; | .config &lt;chr&gt; |\n",
       "|---|---|---|---|---|---|---|\n",
       "| 1 | rmse | standard | 0.02279571 | 5 | 0.0015898903 | Preprocessor1_Model001 |\n",
       "| 2 | rmse | standard | 0.01855573 | 5 | 0.0013240116 | Preprocessor1_Model002 |\n",
       "| 3 | rmse | standard | 0.01827059 | 5 | 0.0013922888 | Preprocessor1_Model003 |\n",
       "| 4 | rmse | standard | 0.01790188 | 5 | 0.0009908979 | Preprocessor1_Model004 |\n",
       "| 5 | rmse | standard | 0.01787894 | 5 | 0.0008674281 | Preprocessor1_Model005 |\n",
       "| 6 | rmse | standard | 0.01757721 | 5 | 0.0008837169 | Preprocessor1_Model006 |\n",
       "| 7 | rmse | standard | 0.01745423 | 5 | 0.0010690693 | Preprocessor1_Model007 |\n",
       "| 8 | rmse | standard | 0.01743608 | 5 | 0.0009366920 | Preprocessor1_Model008 |\n",
       "| ⋮ | ⋮ | ⋮ | ⋮ | ⋮ | ⋮ | ⋮ |\n",
       "|  95 | rmse | standard | 0.01653707 | 5 | 0.0007725417 | Preprocessor1_Model095 |\n",
       "|  96 | rmse | standard | 0.01656278 | 5 | 0.0007849753 | Preprocessor1_Model096 |\n",
       "|  97 | rmse | standard | 0.01657226 | 5 | 0.0007968227 | Preprocessor1_Model097 |\n",
       "|  98 | rmse | standard | 0.01660316 | 5 | 0.0008022788 | Preprocessor1_Model098 |\n",
       "|  99 | rmse | standard | 0.01664257 | 5 | 0.0008096566 | Preprocessor1_Model099 |\n",
       "| 100 | rmse | standard | 0.01667014 | 5 | 0.0008348802 | Preprocessor1_Model100 |\n",
       "| 101 | rmse | standard | 0.01662707 | 5 | 0.0008184543 | Preprocessor1_Model101 |\n",
       "\n"
      ],
      "text/plain": [
       "    neighbors .metric .estimator mean       n std_err     \n",
       "1   1         rmse    standard   0.02279571 5 0.0015898903\n",
       "2   2         rmse    standard   0.01855573 5 0.0013240116\n",
       "3   3         rmse    standard   0.01827059 5 0.0013922888\n",
       "4   4         rmse    standard   0.01790188 5 0.0009908979\n",
       "5   5         rmse    standard   0.01787894 5 0.0008674281\n",
       "6   6         rmse    standard   0.01757721 5 0.0008837169\n",
       "7   7         rmse    standard   0.01745423 5 0.0010690693\n",
       "8   8         rmse    standard   0.01743608 5 0.0009366920\n",
       "⋮   ⋮         ⋮       ⋮          ⋮          ⋮ ⋮           \n",
       "95   95       rmse    standard   0.01653707 5 0.0007725417\n",
       "96   96       rmse    standard   0.01656278 5 0.0007849753\n",
       "97   97       rmse    standard   0.01657226 5 0.0007968227\n",
       "98   98       rmse    standard   0.01660316 5 0.0008022788\n",
       "99   99       rmse    standard   0.01664257 5 0.0008096566\n",
       "100 100       rmse    standard   0.01667014 5 0.0008348802\n",
       "101 101       rmse    standard   0.01662707 5 0.0008184543\n",
       "    .config               \n",
       "1   Preprocessor1_Model001\n",
       "2   Preprocessor1_Model002\n",
       "3   Preprocessor1_Model003\n",
       "4   Preprocessor1_Model004\n",
       "5   Preprocessor1_Model005\n",
       "6   Preprocessor1_Model006\n",
       "7   Preprocessor1_Model007\n",
       "8   Preprocessor1_Model008\n",
       "⋮   ⋮                     \n",
       "95  Preprocessor1_Model095\n",
       "96  Preprocessor1_Model096\n",
       "97  Preprocessor1_Model097\n",
       "98  Preprocessor1_Model098\n",
       "99  Preprocessor1_Model099\n",
       "100 Preprocessor1_Model100\n",
       "101 Preprocessor1_Model101"
      ]
     },
     "metadata": {},
     "output_type": "display_data"
    }
   ],
   "source": [
    "## Cross-validation for a grid of numbers of neights from 1-101 to find\n",
    "## the value of K that minimizes RMSPE\n",
    "gridvals <- tibble(neighbors = seq(1,101))\n",
    "\n",
    "p25th_results <- p25th_wkflw |>\n",
    "  tune_grid(resamples = p25th_vfold, grid = gridvals) |>\n",
    "  collect_metrics() |>\n",
    "  filter(.metric == \"rmse\")\n",
    "\n",
    "## show the results\n",
    "p25th_results"
   ]
  },
  {
   "cell_type": "code",
   "execution_count": 11,
   "id": "6fa95de7-25a5-428e-ba90-5e6dadbf1958",
   "metadata": {},
   "outputs": [
    {
     "data": {
      "image/png": "[encoded data removed]",
      "text/plain": [
       "plot without title"
      ]
     },
     "metadata": {
      "image/png": {
       "height": 420,
       "width": 420
      }
     },
     "output_type": "display_data"
    }
   ],
   "source": [
    "#Here is a vizualization of the RMSPE values for the different K values. \n",
    "\n",
    "p25th_RMSPE_plot <- ggplot(p25th_results, aes(x = neighbors, y = mean)) +\n",
    "    geom_point() +\n",
    "    geom_line() +\n",
    "    xlab(\"Neighbors\") +\n",
    "    ylab(\"RMSPE\")\n",
    "\n",
    "p25th_RMSPE_plot"
   ]
  },
  {
   "cell_type": "code",
   "execution_count": 13,
   "id": "e69755a0-33dc-45d1-a199-8c7cc214446d",
   "metadata": {},
   "outputs": [
    {
     "data": {
      "text/html": [
       "<table class=\"dataframe\">\n",
       "<caption>A tibble: 1 × 7</caption>\n",
       "<thead>\n",
       "\t<tr><th scope=col>neighbors</th><th scope=col>.metric</th><th scope=col>.estimator</th><th scope=col>mean</th><th scope=col>n</th><th scope=col>std_err</th><th scope=col>.config</th></tr>\n",
       "\t<tr><th scope=col>&lt;int&gt;</th><th scope=col>&lt;chr&gt;</th><th scope=col>&lt;chr&gt;</th><th scope=col>&lt;dbl&gt;</th><th scope=col>&lt;int&gt;</th><th scope=col>&lt;dbl&gt;</th><th scope=col>&lt;chr&gt;</th></tr>\n",
       "</thead>\n",
       "<tbody>\n",
       "\t<tr><td>36</td><td>rmse</td><td>standard</td><td>0.01605211</td><td>5</td><td>0.0007558967</td><td>Preprocessor1_Model036</td></tr>\n",
       "</tbody>\n",
       "</table>\n"
      ],
      "text/latex": [
       "A tibble: 1 × 7\n",
       "\\begin{tabular}{lllllll}\n",
       " neighbors & .metric & .estimator & mean & n & std\\_err & .config\\\\\n",
       " <int> & <chr> & <chr> & <dbl> & <int> & <dbl> & <chr>\\\\\n",
       "\\hline\n",
       "\t 36 & rmse & standard & 0.01605211 & 5 & 0.0007558967 & Preprocessor1\\_Model036\\\\\n",
       "\\end{tabular}\n"
      ],
      "text/markdown": [
       "\n",
       "A tibble: 1 × 7\n",
       "\n",
       "| neighbors &lt;int&gt; | .metric &lt;chr&gt; | .estimator &lt;chr&gt; | mean &lt;dbl&gt; | n &lt;int&gt; | std_err &lt;dbl&gt; | .config &lt;chr&gt; |\n",
       "|---|---|---|---|---|---|---|\n",
       "| 36 | rmse | standard | 0.01605211 | 5 | 0.0007558967 | Preprocessor1_Model036 |\n",
       "\n"
      ],
      "text/plain": [
       "  neighbors .metric .estimator mean       n std_err      .config               \n",
       "1 36        rmse    standard   0.01605211 5 0.0007558967 Preprocessor1_Model036"
      ]
     },
     "metadata": {},
     "output_type": "display_data"
    }
   ],
   "source": [
    "## This will only show the row of minimum RMSPE which is the K value we want\n",
    "## to use for the analysis\n",
    "\n",
    "p25th_min <- p25th_results |>\n",
    "  filter(mean == min(mean))\n",
    "\n",
    "## K value chosen is 36\n",
    "p25th_min"
   ]
  },
  {
   "cell_type": "code",
   "execution_count": 17,
   "id": "7741829e-26e7-49b0-9809-3072d986fb39",
   "metadata": {},
   "outputs": [
    {
     "data": {
      "text/html": [
       "<table class=\"dataframe\">\n",
       "<caption>A tibble: 1 × 3</caption>\n",
       "<thead>\n",
       "\t<tr><th scope=col>.metric</th><th scope=col>.estimator</th><th scope=col>.estimate</th></tr>\n",
       "\t<tr><th scope=col>&lt;chr&gt;</th><th scope=col>&lt;chr&gt;</th><th scope=col>&lt;dbl&gt;</th></tr>\n",
       "</thead>\n",
       "<tbody>\n",
       "\t<tr><td>rmse</td><td>standard</td><td>0.02360555</td></tr>\n",
       "</tbody>\n",
       "</table>\n"
      ],
      "text/latex": [
       "A tibble: 1 × 3\n",
       "\\begin{tabular}{lll}\n",
       " .metric & .estimator & .estimate\\\\\n",
       " <chr> & <chr> & <dbl>\\\\\n",
       "\\hline\n",
       "\t rmse & standard & 0.02360555\\\\\n",
       "\\end{tabular}\n"
      ],
      "text/markdown": [
       "\n",
       "A tibble: 1 × 3\n",
       "\n",
       "| .metric &lt;chr&gt; | .estimator &lt;chr&gt; | .estimate &lt;dbl&gt; |\n",
       "|---|---|---|\n",
       "| rmse | standard | 0.02360555 |\n",
       "\n"
      ],
      "text/plain": [
       "  .metric .estimator .estimate \n",
       "1 rmse    standard   0.02360555"
      ]
     },
     "metadata": {},
     "output_type": "display_data"
    }
   ],
   "source": [
    "#In order to use our model on the testing data, we need to retrain\n",
    "#the KNN regression model on the training data set using the K value\n",
    "#we found in the earlier step that minimizes RMSPE\n",
    "\n",
    "k_value <- p25th_min |> \n",
    "    pull(neighbors)\n",
    "\n",
    "p25th_spec_test <- nearest_neighbor(weight_func = \"rectangular\", neighbors = k_value) |>\n",
    "    set_engine(\"kknn\") |>\n",
    "    set_mode(\"regression\")\n",
    "\n",
    "p25th_fit_test <- workflow() |>\n",
    "    add_recipe(p25th_recipe) |>\n",
    "    add_model(p25th_spec_test) |>\n",
    "    fit(data = p25th_data_training)\n",
    "\n",
    "p25th_summary_test <- p25th_fit_test |>\n",
    "  predict(p25th_data_testing) |>\n",
    "  bind_cols(p25th_data_testing) |>\n",
    "  metrics(truth = Employment_rate, estimate = .pred) |>\n",
    "  filter(.metric == 'rmse')\n",
    "\n",
    "p25th_summary_test"
   ]
  },
  {
   "cell_type": "code",
   "execution_count": null,
   "id": "af99d661-73fe-437c-ba48-fd6d85967b40",
   "metadata": {},
   "outputs": [],
   "source": [
    "#Now we can assess our model and the RMSPE and how well it predicts using \n",
    "#the testing data we set aside earlier. \n",
    "\n",
    "p25th_preds <- tibble(Average_Income = seq(from = 500, to = 125000, by = 10))\n",
    "\n",
    "p25th_preds <- p25th_fit_test |>\n",
    "  predict(p25th_preds) |>\n",
    "  bind_cols(p25th_preds)\n",
    "\n",
    "p25th_final <- ggplot(Conservative_training, aes(x = Average_Income, y = Percentage_of_Population_Voted)) +\n",
    "  geom_point(alpha = 0.4) +\n",
    "  geom_line(data = Conservative_preds, \n",
    "            mapping = aes(x = Average_Income, y = .pred), \n",
    "            color = \"blue\") +\n",
    "  xlab(\"Average Income per person of the District\") +\n",
    "  ylab(\"Percentage of Population who voted Conservative\") +\n",
    "  ggtitle(paste0(\"Conservative plot, K = \", kmin)) + \n",
    "  theme(text = element_text(size = 12))+\n",
    "  xlim(0,120000)+\n",
    "  ylim(0,100)\n",
    "\n",
    "p25th_final"
   ]
  },
  {
   "cell_type": "markdown",
   "id": "7bc6cb1b-ee08-47d5-9a43-d703a28bddc4",
   "metadata": {},
   "source": [
    "## Part III: Methods\n",
    "We will conduct our data analysis using the techniques and functions from the worksheets and tutorial sets and expect much of our coding to be based on the content we have learned throughout the course. We are using a dataset from Kaggle, which we intend to mainly use the information from the columns “Major”, “Median”, “P25th”, and “P75th”. To visualize our findings, we will be creating 3 scatter plots. For each of the plots, the y-axis will be labeled “Employment Rate”, representing the percentage of graduates employed in each of the majors, and the x-axis will be labeled “Median Salary (USD)”, “25th Percentile Salary (USD)”, and “75th Percentile Salary (USD)”. Including the data from the columns “P25th” and “P75th” will enable us to provide a more comprehensive perspective on the relationship between the salary of each graduated major and their respective employment rate. Through the use of regression techniques, we can determine any existing significance that exists between salaries and employment rates and gain further insight into their relationship. Additionally, we will use cross-validation to determine the most appropriate K neighbors value and to improve the accuracy of our model. \n"
   ]
  },
  {
   "cell_type": "markdown",
   "id": "7be0f832-ab53-41ff-af0b-40d14b05c0d3",
   "metadata": {},
   "source": [
    "## Part IV: Expected Outcomes and Significance\n",
    "\n",
    "Our analysis aims to investigate the relationship between salary and employment rate, anticipating that higher-paying jobs may exhibit lower employment rates. We hypothesize that the availability of higher-paying positions within a particular field could be limited, leading to a lower overall employment rate. This expectation is based on the premise that higher salary levels often correspond to positions requiring specialized skills or qualifications, resulting in a more competitive job market. Job seekers would also tend to apply for these higher-paying careers, resulting in highly competitive applications and leaving many unemployed. Companies that supply such a high salary may also be unable to open up a large quantity of the position leading to increased selectivity in their hiring process. By examining the correlation between salary and employment rate, we seek to uncover valuable insights into the dynamics of job opportunities and their relationship to compensation levels. Understanding this relationship holds significant implications for individuals pursuing their education and seeking career paths with optimal employment prospects. As for the future outlook, recognizing the correlation between salary and employment rate can help students make informed decisions about their majors and field of study alongside their passions.\n",
    "\n"
   ]
  },
  {
   "cell_type": "markdown",
   "id": "04acc69f-05b4-41cd-a5a6-5980cd63e82e",
   "metadata": {},
   "source": [
    "### Citiation\n",
    "\n",
    "College majors and their graduates. Kaggle. (n.d.). https://www.kaggle.com/datasets/thedevastator/uncovering-insights-to-college-majors-and-their?resource=download&amp;select=all-ages.csv "
   ]
  },
  {
   "cell_type": "code",
   "execution_count": null,
   "id": "d473e816-937d-47c3-901e-0fa17be22ebf",
   "metadata": {},
   "outputs": [],
   "source": []
  }
 ],
 "metadata": {
  "kernelspec": {
   "display_name": "R",
   "language": "R",
   "name": "ir"
  },
  "language_info": {
   "codemirror_mode": "r",
   "file_extension": ".r",
   "mimetype": "text/x-r-source",
   "name": "R",
   "pygments_lexer": "r",
   "version": "4.1.3"
  }
 },
 "nbformat": 4,
 "nbformat_minor": 5
}
